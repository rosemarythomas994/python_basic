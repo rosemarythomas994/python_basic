{
  "cells": [
    {
      "cell_type": "markdown",
      "metadata": {
        "id": "view-in-github",
        "colab_type": "text"
      },
      "source": [
        "<a href=\"https://colab.research.google.com/github/rosemarythomas994/python_basic/blob/main/statements_comments_indentation.ipynb\" target=\"_parent\"><img src=\"https://colab.research.google.com/assets/colab-badge.svg\" alt=\"Open In Colab\"/></a>"
      ]
    },
    {
      "cell_type": "markdown",
      "metadata": {
        "id": "idNansQaZUYu"
      },
      "source": [
        "# Python Statement, Indentation and Comments\n",
        "\n",
        "In this class, you will learn about Python statements, why indentation is important and use of comments in programming."
      ]
    },
    {
      "cell_type": "markdown",
      "metadata": {
        "id": "fitHhvESZUYv"
      },
      "source": [
        "## 1. Python Statement\n",
        "\n",
        "Instructions that a Python interpreter can execute are called statements. For example, **`a = 1`** is an assignment statement. **`if`** statement, **`for`** statement, **`while`** statement, etc. are other kinds of statements which will be discussed later."
      ]
    },
    {
      "cell_type": "markdown",
      "metadata": {
        "id": "4ulBCoctZUYv"
      },
      "source": [
        "### Multi-line statement\n",
        "\n",
        "In Python, the end of a statement is marked by a newline character. But we can make a statement extend over multiple lines with the line continuation character **`\\`**.\n",
        "\n",
        "* Statements finish at the end of the line:\n",
        "  * Except when there is an open bracket or paranthesis:\n",
        "  \n",
        "```python\n",
        ">>> 1+2\n",
        ">>> +3  #illegal continuation of the sum\n",
        "```\n",
        "  * A single backslash at the end of the line can also be used to indicate that a statement is still incomplete  \n",
        "  \n",
        "```python\n",
        ">>> 1 + \\\n",
        ">>>    2 + 3 # this is also okay\n",
        "```\n",
        "\n",
        "For example:"
      ]
    },
    {
      "cell_type": "code",
      "execution_count": null,
      "metadata": {
        "ExecuteTime": {
          "end_time": "2021-10-02T06:13:39.565686Z",
          "start_time": "2021-10-02T06:13:39.533459Z"
        },
        "id": "gJM-B4V8ZUYv",
        "outputId": "dc5bafdd-f902-4150-e619-30231055054b",
        "colab": {
          "base_uri": "https://localhost:8080/"
        }
      },
      "outputs": [
        {
          "output_type": "execute_result",
          "data": {
            "text/plain": [
              "4"
            ]
          },
          "metadata": {},
          "execution_count": 18
        }
      ],
      "source": [
        "2+3    # assignment line 1\n",
        "+4     # assignment line 2\n",
        "\n",
        "# Python is only calculating assignment line 2"
      ]
    },
    {
      "cell_type": "markdown",
      "metadata": {
        "id": "bHfcZoSTZUYx"
      },
      "source": [
        "```python\n",
        "1+2 \\       # '\\' means assignment line is continue to next line\n",
        "+3\n",
        "```\n",
        "\n",
        ">**Note:** This would result in error because there should be no comment **`#`** or space after **`\\`**."
      ]
    },
    {
      "cell_type": "code",
      "execution_count": null,
      "metadata": {
        "ExecuteTime": {
          "end_time": "2021-10-02T06:13:39.671639Z",
          "start_time": "2021-10-02T06:13:39.567639Z"
        },
        "id": "UncZalFVZUYx",
        "outputId": "d17dc1c4-23e2-42c9-8c64-6add979a101b",
        "colab": {
          "base_uri": "https://localhost:8080/"
        }
      },
      "outputs": [
        {
          "output_type": "execute_result",
          "data": {
            "text/plain": [
              "6"
            ]
          },
          "metadata": {},
          "execution_count": 14
        }
      ],
      "source": [
        "# Method 1:\n",
        "\n",
        "1+2 \\\n",
        "+3"
      ]
    },
    {
      "cell_type": "code",
      "source": [
        "1+3 \\\n",
        "+5"
      ],
      "metadata": {
        "colab": {
          "base_uri": "https://localhost:8080/"
        },
        "id": "AzSHdAH9qWLz",
        "outputId": "be8594cf-ce40-4121-f8a6-1dc2e736751e"
      },
      "execution_count": null,
      "outputs": [
        {
          "output_type": "execute_result",
          "data": {
            "text/plain": [
              "9"
            ]
          },
          "metadata": {},
          "execution_count": 17
        }
      ]
    },
    {
      "cell_type": "code",
      "execution_count": null,
      "metadata": {
        "ExecuteTime": {
          "end_time": "2021-10-02T06:13:39.777600Z",
          "start_time": "2021-10-02T06:13:39.676525Z"
        },
        "id": "AZyjJcAhZUYy",
        "outputId": "a7a5fbda-7220-4b26-f936-a6dc86736a56"
      },
      "outputs": [
        {
          "data": {
            "text/plain": [
              "45"
            ]
          },
          "execution_count": 3,
          "metadata": {},
          "output_type": "execute_result"
        }
      ],
      "source": [
        "1 + 2 + 3 + \\\n",
        "4 + 5 + 6 + \\\n",
        "7 + 8 + 9"
      ]
    },
    {
      "cell_type": "markdown",
      "metadata": {
        "id": "2rsbsFZuZUYy"
      },
      "source": [
        "This is an explicit line continuation. In Python, line continuation is implied inside:\n",
        "1. parentheses **`( )`**,\n",
        "    For Example:\n",
        "    ```python\n",
        "(1+2\n",
        "             + 3) # perfectly OK even with spaces\n",
        "```\n",
        "2. brackets **`[ ]`**, and\n",
        "3. braces **`{ }`**.\n",
        "For instance, we can implement the above multi-line statement as:"
      ]
    },
    {
      "cell_type": "code",
      "execution_count": null,
      "metadata": {
        "ExecuteTime": {
          "end_time": "2021-10-02T06:13:39.929944Z",
          "start_time": "2021-10-02T06:13:39.781506Z"
        },
        "id": "_8FWSzivZUYy",
        "outputId": "1320f134-a655-4f86-849e-c25906b6798d"
      },
      "outputs": [
        {
          "data": {
            "text/plain": [
              "6"
            ]
          },
          "execution_count": 4,
          "metadata": {},
          "output_type": "execute_result"
        }
      ],
      "source": [
        "# Method 2:\n",
        "\n",
        "(1+2\n",
        "+3)"
      ]
    },
    {
      "cell_type": "code",
      "execution_count": null,
      "metadata": {
        "ExecuteTime": {
          "end_time": "2021-10-02T06:13:40.041275Z",
          "start_time": "2021-10-02T06:13:39.933850Z"
        },
        "id": "BxYrWGNIZUYz",
        "outputId": "eafe8e88-23ff-4b20-c40a-9805ed88be7f"
      },
      "outputs": [
        {
          "data": {
            "text/plain": [
              "45"
            ]
          },
          "execution_count": 5,
          "metadata": {},
          "output_type": "execute_result"
        }
      ],
      "source": [
        "(1 + 2 + 3 +\n",
        "4 + 5 + 6 +\n",
        "7 + 8 + 9)"
      ]
    },
    {
      "cell_type": "markdown",
      "metadata": {
        "id": "pIoa5BQQZUYz"
      },
      "source": [
        "Here, the surrounding parentheses **`( )`** do the line continuation implicitly. Same is the case with **`[ ]`** and **`{ }`**. For example:"
      ]
    },
    {
      "cell_type": "code",
      "execution_count": null,
      "metadata": {
        "ExecuteTime": {
          "end_time": "2021-10-02T06:13:40.160414Z",
          "start_time": "2021-10-02T06:13:40.047132Z"
        },
        "id": "xDPOGM2KZUYz",
        "outputId": "e360903d-1db9-4d84-ef34-fa114271b826"
      },
      "outputs": [
        {
          "data": {
            "text/plain": [
              "['red', 'blue', 'green', '99']"
            ]
          },
          "execution_count": 6,
          "metadata": {},
          "output_type": "execute_result"
        }
      ],
      "source": [
        "['red',\n",
        "'blue',\n",
        "    'green', '99']"
      ]
    },
    {
      "cell_type": "markdown",
      "metadata": {
        "id": "UKQN4J4CZUY0"
      },
      "source": [
        "## 2. Python Indentation\n",
        "\n",
        "No spaces or tab characters allowed at the start of a statement: Indentation plays a special role in Python (see the section on control statements). For now simply ensure that all statements start at the beginning of the line.\n",
        "\n",
        "\n",
        "\n",
        "Most of the programming languages like C, C++, and Java use braces **`{ }`** to define a block of code. Python, however, uses indentation.\n",
        "\n",
        "A comparison of C & Python will help you understand it better.\n",
        "\n",
        "\n",
        "A code block (body of a **[function]**, etc.) starts with indentation and ends with the first unindented line. The amount of indentation is up to you, but it must be consistent throughout that block.\n",
        "\n",
        "Generally, four whitespaces are used for indentation and are preferred over tabs. Here is an example.\n",
        "\n",
        "> **In the case of Python, indentation is not for styling purpose. It is rather a requirement for your code to get compiled and executed. Thus it is mandatory!!!**"
      ]
    },
    {
      "cell_type": "code",
      "execution_count": null,
      "metadata": {
        "ExecuteTime": {
          "end_time": "2021-10-02T06:13:40.314708Z",
          "start_time": "2021-10-02T06:13:40.167249Z"
        },
        "scrolled": true,
        "id": "YrDDyQfyZUY0",
        "outputId": "f3011f5a-8a48-450e-bd42-68ba5064c3bb",
        "colab": {
          "base_uri": "https://localhost:8080/"
        }
      },
      "outputs": [
        {
          "output_type": "stream",
          "name": "stdout",
          "text": [
            "1\n",
            "2\n",
            "3\n",
            "4\n",
            "5\n",
            "6\n"
          ]
        }
      ],
      "source": [
        "for i in range(1,11):\n",
        "    print(i)   #press \"Tab\" one time for 1 indentation\n",
        "    if i == 6:\n",
        "        break"
      ]
    },
    {
      "cell_type": "markdown",
      "metadata": {
        "id": "BsWEb5KdZUY1"
      },
      "source": [
        "The enforcement of indentation in Python makes the code look neat and clean. This results in Python programs that look similar and consistent.\n",
        "\n",
        "Indentation can be ignored in line continuation, but it's always a good idea to indent. It makes the code more readable. For example:"
      ]
    },
    {
      "cell_type": "code",
      "execution_count": null,
      "metadata": {
        "ExecuteTime": {
          "end_time": "2021-10-02T06:13:40.437265Z",
          "start_time": "2021-10-02T06:13:40.325457Z"
        },
        "id": "nM_ZAO91ZUY2",
        "outputId": "d8d247ac-257d-4d53-8463-54f639f5cf19",
        "colab": {
          "base_uri": "https://localhost:8080/"
        }
      },
      "outputs": [
        {
          "output_type": "stream",
          "name": "stdout",
          "text": [
            "Hello\n"
          ]
        }
      ],
      "source": [
        "if True:\n",
        "    print('Hello')\n",
        "    a = 6"
      ]
    },
    {
      "cell_type": "markdown",
      "metadata": {
        "id": "MWiK5FSwZUY3"
      },
      "source": [
        "or"
      ]
    },
    {
      "cell_type": "code",
      "execution_count": null,
      "metadata": {
        "ExecuteTime": {
          "end_time": "2021-10-02T06:13:40.559823Z",
          "start_time": "2021-10-02T06:13:40.447031Z"
        },
        "id": "vJjHfVeyZUY3",
        "outputId": "3db08d57-c975-4469-828d-f6b9604979bd",
        "colab": {
          "base_uri": "https://localhost:8080/"
        }
      },
      "outputs": [
        {
          "output_type": "stream",
          "name": "stdout",
          "text": [
            "Hello\n"
          ]
        }
      ],
      "source": [
        "if True: print('Hello'); a = 6"
      ]
    },
    {
      "cell_type": "markdown",
      "metadata": {
        "id": "OKPrXSMvZUY4"
      },
      "source": [
        "both are valid and do the same thing, but the former style is clearer.\n",
        "\n",
        "Incorrect indentation will result in **`IndentationError`**\n",
        "."
      ]
    },
    {
      "cell_type": "markdown",
      "metadata": {
        "id": "9r0QGJcdZUY4"
      },
      "source": [
        "## 3. Python Comments\n",
        "\n",
        "Comments are very important while writing a program. They describe what is going on inside a program, so that a person looking at the source code does not have a hard time figuring it out.\n",
        "\n",
        "You might forget the key details of the program you just wrote in a month's time. So taking the time to explain these concepts in the form of comments is always fruitful.\n",
        "\n",
        "In Python, we use the hash **`#`** symbol to start writing a comment.\n",
        "\n",
        "It extends up to the newline character. Comments are for programmers to better understand a program. Python Interpreter ignores comments.\n",
        "\n",
        "Generally, comments will look something like this:\n",
        "\n",
        "```python\n",
        "#This is a Comment\n",
        "```\n",
        "\n",
        "Because comments do not **execute**, when you run a program you will not see any indication of the comment there. Comments are in the source code for **humans** to **read**, not for **computers to execute**."
      ]
    },
    {
      "cell_type": "code",
      "execution_count": null,
      "metadata": {
        "ExecuteTime": {
          "end_time": "2021-10-02T06:13:40.682382Z",
          "start_time": "2021-10-02T06:13:40.563733Z"
        },
        "id": "Icdm7wMcZUY5"
      },
      "outputs": [],
      "source": [
        "#This is a Comment"
      ]
    },
    {
      "cell_type": "markdown",
      "metadata": {
        "id": "psr7HXV8ZUY5"
      },
      "source": [
        "### 1. Single lined comment:\n",
        "In case user wants to specify a single line comment, then comment must start with **`#`**.\n",
        "\n",
        "```python\n",
        "#This is single line comment.\n",
        "```"
      ]
    },
    {
      "cell_type": "code",
      "execution_count": null,
      "metadata": {
        "ExecuteTime": {
          "end_time": "2021-10-02T06:13:40.804942Z",
          "start_time": "2021-10-02T06:13:40.685314Z"
        },
        "id": "H5s_aGmfZUY7"
      },
      "outputs": [],
      "source": [
        "#This is single line comment."
      ]
    },
    {
      "cell_type": "markdown",
      "metadata": {
        "id": "HogteOzCZUY7"
      },
      "source": [
        "### 2. Inline comments\n",
        "If a comment is placed on the same line as a statement, it is called an inline comment. Similar to the block comment, an inline comment begins with a single hash (#) sign and followed by a space and comment.\n",
        "\n",
        "It is recommended that an inline comment should separate from the statement at least **two spaces**. The following example demonstrates an inline comment\n",
        "\n",
        "```python\n",
        ">>>n+=1  # increase/add n by 1\n",
        "```"
      ]
    },
    {
      "cell_type": "code",
      "execution_count": null,
      "metadata": {
        "ExecuteTime": {
          "end_time": "2021-10-02T06:13:40.929942Z",
          "start_time": "2021-10-02T06:13:40.809827Z"
        },
        "id": "oLNxpw5TZUY8",
        "outputId": "1b36c583-0942-420f-b212-bc7f35770452"
      },
      "outputs": [
        {
          "data": {
            "text/plain": [
              "10"
            ]
          },
          "execution_count": 12,
          "metadata": {},
          "output_type": "execute_result"
        }
      ],
      "source": [
        "n=9\n",
        "n+=1  # increase/add n by 1\n",
        "n"
      ]
    },
    {
      "cell_type": "markdown",
      "metadata": {
        "id": "x9C8KvjZZUY8"
      },
      "source": [
        "### 3. Multi lined comment:\n",
        "\n",
        "We can have comments that extend up to multiple lines. One way is to use the hash **`#`** symbol at the beginning of each line. For example:"
      ]
    },
    {
      "cell_type": "code",
      "execution_count": null,
      "metadata": {
        "ExecuteTime": {
          "end_time": "2021-10-02T06:13:41.082284Z",
          "start_time": "2021-10-02T06:13:40.933849Z"
        },
        "id": "BTiwEBj7ZUY8"
      },
      "outputs": [],
      "source": [
        "#This is a long comment\n",
        "#and it extends\n",
        "#to multiple lines"
      ]
    },
    {
      "cell_type": "code",
      "execution_count": null,
      "metadata": {
        "ExecuteTime": {
          "end_time": "2021-10-02T06:13:41.236581Z",
          "start_time": "2021-10-02T06:13:41.086192Z"
        },
        "id": "rCHv4QFPZUY8",
        "outputId": "c7ced14d-72fe-4712-f9d5-809e0dbd3cb1"
      },
      "outputs": [
        {
          "name": "stdout",
          "output_type": "stream",
          "text": [
            "Hello\n"
          ]
        }
      ],
      "source": [
        "#This is a comment\n",
        "#print out Hello\n",
        "print('Hello')"
      ]
    },
    {
      "cell_type": "markdown",
      "metadata": {
        "id": "BUxJXLAzZUY9"
      },
      "source": [
        "Another way of doing this is to use triple quotes, either `'''` or `\"\"\"`.\n",
        "\n",
        "These triple quotes are generally used for multi-line strings. But they can be used as a multi-line comment as well. Unless they are not docstrings, they do not generate any extra code.\n",
        "\n",
        "```python\n",
        "#single line comment\n",
        ">>>print (\"Hello Python\"\n",
        "   '''This is\n",
        "   multiline comment''')\n",
        "```"
      ]
    },
    {
      "cell_type": "code",
      "execution_count": null,
      "metadata": {
        "ExecuteTime": {
          "end_time": "2021-10-02T06:13:41.375251Z",
          "start_time": "2021-10-02T06:13:41.247325Z"
        },
        "id": "hKttkgOlZUY9",
        "outputId": "c9557c9e-e1fa-490d-f899-2aaaaeae3fc6"
      },
      "outputs": [
        {
          "data": {
            "text/plain": [
              "'This is also a\\nperfect example of\\nmulti-line comments'"
            ]
          },
          "execution_count": 15,
          "metadata": {},
          "output_type": "execute_result"
        }
      ],
      "source": [
        "\"\"\"This is also a\n",
        "perfect example of\n",
        "multi-line comments\"\"\""
      ]
    },
    {
      "cell_type": "code",
      "execution_count": null,
      "metadata": {
        "ExecuteTime": {
          "end_time": "2021-10-02T06:13:41.482679Z",
          "start_time": "2021-10-02T06:13:41.379163Z"
        },
        "id": "apXY57CfZUY9",
        "outputId": "1ddbdbff-6144-4f15-bb1f-93ddefd2b530"
      },
      "outputs": [
        {
          "data": {
            "text/plain": [
              "'This is also a\\nperfect example of\\nmulti-line comments'"
            ]
          },
          "execution_count": 16,
          "metadata": {},
          "output_type": "execute_result"
        }
      ],
      "source": [
        "'''This is also a\n",
        "perfect example of\n",
        "multi-line comments'''"
      ]
    },
    {
      "cell_type": "code",
      "execution_count": null,
      "metadata": {
        "ExecuteTime": {
          "end_time": "2021-10-02T06:13:41.620369Z",
          "start_time": "2021-10-02T06:13:41.488536Z"
        },
        "scrolled": true,
        "id": "ldxG6kX8ZUY9",
        "outputId": "ad545577-a219-4321-daf6-05e65f321be7"
      },
      "outputs": [
        {
          "name": "stdout",
          "output_type": "stream",
          "text": [
            "Hello PythonThis is\n",
            "multiline comment\n"
          ]
        }
      ],
      "source": [
        "#single line comment\n",
        "print (\"Hello Python\"\n",
        "'''This is\n",
        "multiline comment''')"
      ]
    },
    {
      "cell_type": "markdown",
      "metadata": {
        "id": "gz69B_KLZUY9"
      },
      "source": [
        "### 4. Docstrings in Python\n",
        "\n",
        "A docstring is short for documentation string.\n",
        "\n",
        "**[Python Docstrings]** (documentation strings) are the **[string]** literals that appear right after the definition of a function, method, class, or module.\n",
        "\n",
        "Triple quotes are used while writing docstrings. For example:\n",
        "\n",
        "```python\n",
        ">>>def double(num):\n",
        ">>>    \"\"\"Function to double the value\"\"\"\n",
        ">>>    return 3*num\n",
        "```\n",
        "\n",
        "Docstrings appear right after the definition of a function, class, or a module. This separates docstrings from multiline comments using triple quotes.\n",
        "\n",
        "The docstrings are associated with the object as their **`__doc__`** attribute.\n",
        "\n",
        "So, we can access the docstrings of the above function with the following lines of code:"
      ]
    },
    {
      "cell_type": "code",
      "source": [
        "def double(num):\n",
        "    \"\"\"Function to double the value\"\"\"\n",
        "    return 3*num\n",
        "#print(double(2))"
      ],
      "metadata": {
        "colab": {
          "base_uri": "https://localhost:8080/"
        },
        "id": "DUKFF6P0rpdh",
        "outputId": "2c717b03-dd57-4272-8f3c-4c9e5bc58abf"
      },
      "execution_count": null,
      "outputs": [
        {
          "output_type": "stream",
          "name": "stdout",
          "text": [
            "6\n"
          ]
        }
      ]
    },
    {
      "cell_type": "code",
      "execution_count": null,
      "metadata": {
        "ExecuteTime": {
          "end_time": "2021-10-02T06:13:41.729260Z",
          "start_time": "2021-10-02T06:13:41.626231Z"
        },
        "id": "yvWwjcosZUY9",
        "outputId": "23ff7c5d-e264-4c5c-ad8d-d0b31d23ba6b",
        "colab": {
          "base_uri": "https://localhost:8080/"
        }
      },
      "outputs": [
        {
          "output_type": "stream",
          "name": "stdout",
          "text": [
            "Function to double the value\n",
            "6\n"
          ]
        }
      ],
      "source": [
        "def double(num):\n",
        "    \"\"\"Function to double the value\"\"\"\n",
        "    return 3*num\n",
        "print(double.__doc__)\n",
        "#print(double(2))"
      ]
    },
    {
      "cell_type": "markdown",
      "metadata": {
        "id": "VlgV0xLYZUY-"
      },
      "source": [
        "## Help topics\n",
        "\n",
        "Python has extensive help built in. You can execute **`help()`** for an overview or **`help(x)`** for any library, object or type **`x`**. Try using **`help(\"topics\")`** to get a list of help pages built into the help system.\n",
        "\n",
        "`help(\"topics\")`"
      ]
    },
    {
      "cell_type": "code",
      "execution_count": null,
      "metadata": {
        "ExecuteTime": {
          "end_time": "2021-10-02T06:13:41.882578Z",
          "start_time": "2021-10-02T06:13:41.733166Z"
        },
        "scrolled": true,
        "id": "JJwqcyrnZUY-",
        "outputId": "71cab6f1-30c5-4297-cab8-cd17761232c5",
        "colab": {
          "base_uri": "https://localhost:8080/"
        }
      },
      "outputs": [
        {
          "output_type": "stream",
          "name": "stdout",
          "text": [
            "\n",
            "Here is a list of available topics.  Enter any topic name to get more help.\n",
            "\n",
            "ASSERTION           DELETION            LOOPING             SHIFTING\n",
            "ASSIGNMENT          DICTIONARIES        MAPPINGMETHODS      SLICINGS\n",
            "ATTRIBUTEMETHODS    DICTIONARYLITERALS  MAPPINGS            SPECIALATTRIBUTES\n",
            "ATTRIBUTES          DYNAMICFEATURES     METHODS             SPECIALIDENTIFIERS\n",
            "AUGMENTEDASSIGNMENT ELLIPSIS            MODULES             SPECIALMETHODS\n",
            "BASICMETHODS        EXCEPTIONS          NAMESPACES          STRINGMETHODS\n",
            "BINARY              EXECUTION           NONE                STRINGS\n",
            "BITWISE             EXPRESSIONS         NUMBERMETHODS       SUBSCRIPTS\n",
            "BOOLEAN             FLOAT               NUMBERS             TRACEBACKS\n",
            "CALLABLEMETHODS     FORMATTING          OBJECTS             TRUTHVALUE\n",
            "CALLS               FRAMEOBJECTS        OPERATORS           TUPLELITERALS\n",
            "CLASSES             FRAMES              PACKAGES            TUPLES\n",
            "CODEOBJECTS         FUNCTIONS           POWER               TYPEOBJECTS\n",
            "COMPARISON          IDENTIFIERS         PRECEDENCE          TYPES\n",
            "COMPLEX             IMPORTING           PRIVATENAMES        UNARY\n",
            "CONDITIONAL         INTEGER             RETURNING           UNICODE\n",
            "CONTEXTMANAGERS     LISTLITERALS        SCOPING             \n",
            "CONVERSIONS         LISTS               SEQUENCEMETHODS     \n",
            "DEBUGGING           LITERALS            SEQUENCES           \n",
            "\n"
          ]
        }
      ],
      "source": [
        "help(\"topics\")"
      ]
    },
    {
      "cell_type": "code",
      "source": [
        "help(\"LISTS\")"
      ],
      "metadata": {
        "colab": {
          "base_uri": "https://localhost:8080/"
        },
        "id": "Zm6PoxSNsPxC",
        "outputId": "a4410132-296b-4585-bef0-ad6d523ea9a0"
      },
      "execution_count": null,
      "outputs": [
        {
          "output_type": "stream",
          "name": "stdout",
          "text": [
            "Mutable Sequence Types\n",
            "**********************\n",
            "\n",
            "The operations in the following table are defined on mutable sequence\n",
            "types. The \"collections.abc.MutableSequence\" ABC is provided to make\n",
            "it easier to correctly implement these operations on custom sequence\n",
            "types.\n",
            "\n",
            "In the table *s* is an instance of a mutable sequence type, *t* is any\n",
            "iterable object and *x* is an arbitrary object that meets any type and\n",
            "value restrictions imposed by *s* (for example, \"bytearray\" only\n",
            "accepts integers that meet the value restriction \"0 <= x <= 255\").\n",
            "\n",
            "+--------------------------------+----------------------------------+-----------------------+\n",
            "| Operation                      | Result                           | Notes                 |\n",
            "|================================|==================================|=======================|\n",
            "| \"s[i] = x\"                     | item *i* of *s* is replaced by   |                       |\n",
            "|                                | *x*                              |                       |\n",
            "+--------------------------------+----------------------------------+-----------------------+\n",
            "| \"s[i:j] = t\"                   | slice of *s* from *i* to *j* is  |                       |\n",
            "|                                | replaced by the contents of the  |                       |\n",
            "|                                | iterable *t*                     |                       |\n",
            "+--------------------------------+----------------------------------+-----------------------+\n",
            "| \"del s[i:j]\"                   | same as \"s[i:j] = []\"            |                       |\n",
            "+--------------------------------+----------------------------------+-----------------------+\n",
            "| \"s[i:j:k] = t\"                 | the elements of \"s[i:j:k]\" are   | (1)                   |\n",
            "|                                | replaced by those of *t*         |                       |\n",
            "+--------------------------------+----------------------------------+-----------------------+\n",
            "| \"del s[i:j:k]\"                 | removes the elements of          |                       |\n",
            "|                                | \"s[i:j:k]\" from the list         |                       |\n",
            "+--------------------------------+----------------------------------+-----------------------+\n",
            "| \"s.append(x)\"                  | appends *x* to the end of the    |                       |\n",
            "|                                | sequence (same as                |                       |\n",
            "|                                | \"s[len(s):len(s)] = [x]\")        |                       |\n",
            "+--------------------------------+----------------------------------+-----------------------+\n",
            "| \"s.clear()\"                    | removes all items from *s* (same | (5)                   |\n",
            "|                                | as \"del s[:]\")                   |                       |\n",
            "+--------------------------------+----------------------------------+-----------------------+\n",
            "| \"s.copy()\"                     | creates a shallow copy of *s*    | (5)                   |\n",
            "|                                | (same as \"s[:]\")                 |                       |\n",
            "+--------------------------------+----------------------------------+-----------------------+\n",
            "| \"s.extend(t)\" or \"s += t\"      | extends *s* with the contents of |                       |\n",
            "|                                | *t* (for the most part the same  |                       |\n",
            "|                                | as \"s[len(s):len(s)] = t\")       |                       |\n",
            "+--------------------------------+----------------------------------+-----------------------+\n",
            "| \"s *= n\"                       | updates *s* with its contents    | (6)                   |\n",
            "|                                | repeated *n* times               |                       |\n",
            "+--------------------------------+----------------------------------+-----------------------+\n",
            "| \"s.insert(i, x)\"               | inserts *x* into *s* at the      |                       |\n",
            "|                                | index given by *i* (same as      |                       |\n",
            "|                                | \"s[i:i] = [x]\")                  |                       |\n",
            "+--------------------------------+----------------------------------+-----------------------+\n",
            "| \"s.pop()\" or \"s.pop(i)\"        | retrieves the item at *i* and    | (2)                   |\n",
            "|                                | also removes it from *s*         |                       |\n",
            "+--------------------------------+----------------------------------+-----------------------+\n",
            "| \"s.remove(x)\"                  | remove the first item from *s*   | (3)                   |\n",
            "|                                | where \"s[i]\" is equal to *x*     |                       |\n",
            "+--------------------------------+----------------------------------+-----------------------+\n",
            "| \"s.reverse()\"                  | reverses the items of *s* in     | (4)                   |\n",
            "|                                | place                            |                       |\n",
            "+--------------------------------+----------------------------------+-----------------------+\n",
            "\n",
            "Notes:\n",
            "\n",
            "1. *t* must have the same length as the slice it is replacing.\n",
            "\n",
            "2. The optional argument *i* defaults to \"-1\", so that by default the\n",
            "   last item is removed and returned.\n",
            "\n",
            "3. \"remove()\" raises \"ValueError\" when *x* is not found in *s*.\n",
            "\n",
            "4. The \"reverse()\" method modifies the sequence in place for economy\n",
            "   of space when reversing a large sequence.  To remind users that it\n",
            "   operates by side effect, it does not return the reversed sequence.\n",
            "\n",
            "5. \"clear()\" and \"copy()\" are included for consistency with the\n",
            "   interfaces of mutable containers that don’t support slicing\n",
            "   operations (such as \"dict\" and \"set\"). \"copy()\" is not part of the\n",
            "   \"collections.abc.MutableSequence\" ABC, but most concrete mutable\n",
            "   sequence classes provide it.\n",
            "\n",
            "   New in version 3.3: \"clear()\" and \"copy()\" methods.\n",
            "\n",
            "6. The value *n* is an integer, or an object implementing\n",
            "   \"__index__()\".  Zero and negative values of *n* clear the sequence.\n",
            "   Items in the sequence are not copied; they are referenced multiple\n",
            "   times, as explained for \"s * n\" under Common Sequence Operations.\n",
            "\n",
            "Related help topics: LISTLITERALS\n",
            "\n"
          ]
        }
      ]
    },
    {
      "cell_type": "code",
      "execution_count": null,
      "metadata": {
        "id": "f7b4xqpIZUY-"
      },
      "outputs": [],
      "source": []
    }
  ],
  "metadata": {
    "hide_input": false,
    "kernelspec": {
      "display_name": "Python 3 (ipykernel)",
      "language": "python",
      "name": "python3"
    },
    "language_info": {
      "codemirror_mode": {
        "name": "ipython",
        "version": 3
      },
      "file_extension": ".py",
      "mimetype": "text/x-python",
      "name": "python",
      "nbconvert_exporter": "python",
      "pygments_lexer": "ipython3",
      "version": "3.10.9"
    },
    "toc": {
      "base_numbering": 1,
      "nav_menu": {},
      "number_sections": true,
      "sideBar": true,
      "skip_h1_title": false,
      "title_cell": "Table of Contents",
      "title_sidebar": "Contents",
      "toc_cell": false,
      "toc_position": {},
      "toc_section_display": true,
      "toc_window_display": false
    },
    "varInspector": {
      "cols": {
        "lenName": 16,
        "lenType": 16,
        "lenVar": 40
      },
      "kernels_config": {
        "python": {
          "delete_cmd_postfix": "",
          "delete_cmd_prefix": "del ",
          "library": "var_list.py",
          "varRefreshCmd": "print(var_dic_list())"
        },
        "r": {
          "delete_cmd_postfix": ") ",
          "delete_cmd_prefix": "rm(",
          "library": "var_list.r",
          "varRefreshCmd": "cat(var_dic_list()) "
        }
      },
      "types_to_exclude": [
        "module",
        "function",
        "builtin_function_or_method",
        "instance",
        "_Feature"
      ],
      "window_display": false
    },
    "colab": {
      "provenance": [],
      "include_colab_link": true
    }
  },
  "nbformat": 4,
  "nbformat_minor": 0
}
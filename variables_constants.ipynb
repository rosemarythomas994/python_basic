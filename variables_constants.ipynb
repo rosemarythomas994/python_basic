{
  "cells": [
    {
      "cell_type": "markdown",
      "metadata": {
        "id": "view-in-github",
        "colab_type": "text"
      },
      "source": [
        "<a href=\"https://colab.research.google.com/github/rosemarythomas994/python_basic/blob/main/variables_constants.ipynb\" target=\"_parent\"><img src=\"https://colab.research.google.com/assets/colab-badge.svg\" alt=\"Open In Colab\"/></a>"
      ]
    },
    {
      "cell_type": "markdown",
      "metadata": {
        "id": "Mm49ZkU_h3tJ"
      },
      "source": [
        "# Python Variables and Constants\n",
        "\n",
        "In this class, you will learn about Python variables, constants, literals and their use cases."
      ]
    },
    {
      "cell_type": "markdown",
      "metadata": {
        "id": "9UV-Yh2jh3tJ"
      },
      "source": [
        "# 1. Python Variables\n",
        "\n",
        "A variable is a named location used to **store data in the memory**. Variable also known as **identifier** and used to hold value. It is helpful to think of variables as a container that holds data that can be changed later in the program. **Mnemonic** variables are recommended to use in many programming languages. A mnemonic variable is a variable name that can be easily remembered and associated. A variable refers to a memory address in which data is stored. For example,\n",
        "\n",
        "```python\n",
        ">>>number = 90\n",
        "```\n",
        "\n",
        "Here, we have created a variable named **`number`**. We have assigned the value **`10`** to the variable.\n",
        "\n",
        "You can think of variables as a bag to store books in it and that book can be replaced at any time.\n",
        "\n",
        "```python\n",
        ">>>number = 90\n",
        ">>>number = 9.1\n",
        "```\n",
        "\n",
        "Initially, the value of number was **`90`**. Later, it was changed to **`9.1`**.\n",
        "\n",
        "> **Note**: In Python, we don't actually assign values to the variables. Instead, Python gives the reference of the object(value) to the variable.\n",
        "\n",
        "In Python, we don't need to specify the type of variable because Python is a **type infer language** and smart enough to get variable type.\n",
        "\n",
        "Python Variable Name Rules\n",
        "\n",
        "- A variable name must start with a **letter** **`A`**-**`z`** or the **underscore** **`_`** character\n",
        "- A variable name cannot start with a **number** **`0`**-**`9`**\n",
        "- A variable name can only contain alpha-numeric characters and underscores (**`A`**-**`z`**, **`0`**-**`9`**, and **`_`** )\n",
        "- Variable names are case-sensitive (**`firstname`**, **`Firstname`**, **`FirstName`** and **`FIRSTNAME`**) are different variables). It is recomended to use lowercase letters for variable name."
      ]
    },
    {
      "cell_type": "markdown",
      "metadata": {
        "id": "NXhOsOsLh3tK"
      },
      "source": [
        "#### Let us see valid variable names\n",
        "\n",
        "```python\n",
        "firstname\n",
        "lastname\n",
        "age\n",
        "country\n",
        "city\n",
        "first_name\n",
        "last_name\n",
        "capital_city\n",
        "_if          # if we want to use reserved word as a variable\n",
        "year_2021\n",
        "year2021\n",
        "current_year_2021\n",
        "birth_year\n",
        "num1\n",
        "num2\n",
        "```\n",
        "\n",
        "Invalid variables names:\n",
        "\n",
        "```python\n",
        "first-name\n",
        "first@name\n",
        "first$name\n",
        "num-1\n",
        "1num\n",
        "```\n",
        "\n",
        "We will use standard Python variable naming style which has been adopted by many Python developers. Python developers use snake case(snake_case) variable naming convention. We use underscore character after each word for a variable containing more than one word (eg. **`first_name`**, **`last_name`**, **`engine_rotation_speed`**).  The example below is an example of standard naming of variables, underscore is required when the variable name is more than one word.\n",
        "\n",
        "When we assign a certain data type to a variable, it is called variable declaration. For instance in the example below my first name is assigned to a variable **`first_name`**. The equal sign is an assignment operator. Assigning means storing data in the variable. The equal sign in Python is not equality as in Mathematics."
      ]
    },
    {
      "cell_type": "markdown",
      "metadata": {
        "id": "bT3Qw2TXh3tK"
      },
      "source": [
        "### Assigning values to Variables in Python\n",
        "\n",
        "Think of a variable as a name attached to a particular object. In Python, variables need not be declared or defined in advance, as is the case in many other programming languages.\n",
        "\n",
        "As you can see from the above example, you can use the assignment operator **`=`** to assign a value to a variable."
      ]
    },
    {
      "cell_type": "markdown",
      "metadata": {
        "id": "O1ppVdsvh3tL"
      },
      "source": [
        "#### Example 1: Declaring and assigning value to a variable"
      ]
    },
    {
      "cell_type": "code",
      "execution_count": null,
      "metadata": {
        "ExecuteTime": {
          "end_time": "2021-10-02T06:36:19.999226Z",
          "start_time": "2021-10-02T06:36:19.972865Z"
        },
        "id": "baTw3RfNh3tL",
        "outputId": "8255d3fe-7758-4225-8301-eeba957c9e0a"
      },
      "outputs": [
        {
          "data": {
            "text/plain": [
              "9.1"
            ]
          },
          "execution_count": 1,
          "metadata": {},
          "output_type": "execute_result"
        }
      ],
      "source": [
        "number = 90\n",
        "number = 9.1\n",
        "number"
      ]
    },
    {
      "cell_type": "code",
      "execution_count": null,
      "metadata": {
        "ExecuteTime": {
          "end_time": "2021-10-02T06:36:20.099323Z",
          "start_time": "2021-10-02T06:36:20.003137Z"
        },
        "id": "sp__gmYqh3tM",
        "outputId": "657b29c1-0ab8-4137-c989-1114ea7ae11d",
        "colab": {
          "base_uri": "https://localhost:8080/"
        }
      },
      "outputs": [
        {
          "output_type": "stream",
          "name": "stdout",
          "text": [
            "google.com\n"
          ]
        }
      ],
      "source": [
        "website = \"google.com\"\n",
        "print(website)"
      ]
    },
    {
      "cell_type": "code",
      "execution_count": null,
      "metadata": {
        "ExecuteTime": {
          "end_time": "2021-10-02T06:36:20.214178Z",
          "start_time": "2021-10-02T06:36:20.099323Z"
        },
        "id": "8Q8xGFPrh3tN",
        "outputId": "441fef7d-b2fb-4218-a8a0-36056fd8f32e"
      },
      "outputs": [
        {
          "name": "stdout",
          "output_type": "stream",
          "text": [
            "Hello , World !\n"
          ]
        }
      ],
      "source": [
        "print('Hello',',', 'World','!') # it can take multiple arguments, 4 arguments have been passed"
      ]
    },
    {
      "cell_type": "code",
      "execution_count": null,
      "metadata": {
        "ExecuteTime": {
          "end_time": "2021-10-02T06:36:20.358600Z",
          "start_time": "2021-10-02T06:36:20.217491Z"
        },
        "id": "k7UkJbsEh3tN"
      },
      "outputs": [],
      "source": [
        "first_name = 'Milaan'\n",
        "last_name = 'Parmar'\n",
        "country = 'Finland'\n",
        "city = 'Tampere'\n",
        "age = 96\n",
        "is_married = True\n",
        "skills = ['Python', 'Matlab', 'JS', 'C', 'C++']\n",
        "person_info = {\n",
        "   'firstname':'Milaan',\n",
        "   'lastname':'Parmar',\n",
        "   'country':'Finland',\n",
        "   'city':'Tampere'\n",
        "    }"
      ]
    },
    {
      "cell_type": "markdown",
      "metadata": {
        "id": "XfMgI9Gbh3tN"
      },
      "source": [
        "Let us print and also find the length of the variables declared at the top:"
      ]
    },
    {
      "cell_type": "code",
      "execution_count": null,
      "metadata": {
        "ExecuteTime": {
          "end_time": "2021-10-02T06:36:20.481648Z",
          "start_time": "2021-10-02T06:36:20.364463Z"
        },
        "scrolled": true,
        "id": "DgQp5iRRh3tO",
        "outputId": "75826631-a7cd-4229-e0d6-0619adebff32",
        "colab": {
          "base_uri": "https://localhost:8080/"
        }
      },
      "outputs": [
        {
          "output_type": "stream",
          "name": "stdout",
          "text": [
            "First name: Milaan\n",
            "First name length: 6\n",
            "Last name:  Parmar\n",
            "Last name length:  6\n",
            "Country:  Finland\n",
            "City:  Tampere\n",
            "Age:  96\n",
            "Married:  True\n",
            "Skills:  ['Python', 'Matlab', 'JS', 'C', 'C++']\n",
            "Person information:  {'firstname': 'Milaan', 'lastname': 'Parmar', 'country': 'Finland', 'city': 'Tampere'}\n"
          ]
        }
      ],
      "source": [
        "# Printing the values stored in the variables\n",
        "\n",
        "print('First name:', first_name)\n",
        "print('First name length:', len(first_name))\n",
        "print('Last name: ', last_name)\n",
        "print('Last name length: ', len(last_name))\n",
        "print('Country: ', country)\n",
        "print('City: ', city)\n",
        "print('Age: ', age)\n",
        "print('Married: ', is_married)\n",
        "print('Skills: ', skills)\n",
        "print('Person information: ', person_info)"
      ]
    },
    {
      "cell_type": "markdown",
      "metadata": {
        "id": "d4yoEVbjh3tO"
      },
      "source": [
        "#### Example 2: Declaring multiple variables in one line** using comma  **`,`**  and semicolon **`;`**"
      ]
    },
    {
      "cell_type": "code",
      "execution_count": null,
      "metadata": {
        "ExecuteTime": {
          "end_time": "2021-10-02T06:36:20.608794Z",
          "start_time": "2021-10-02T06:36:20.484580Z"
        },
        "scrolled": true,
        "id": "GdWgw5GWh3tO",
        "outputId": "aaa053f3-778e-4dcf-ef81-09ff3aef0f8d"
      },
      "outputs": [
        {
          "name": "stdout",
          "output_type": "stream",
          "text": [
            "6\n",
            "9.3\n",
            "Hello\n"
          ]
        }
      ],
      "source": [
        "a, b, c = 6, 9.3, \"Hello\"\n",
        "\n",
        "print (a)\n",
        "print (b)\n",
        "print (c)"
      ]
    },
    {
      "cell_type": "code",
      "execution_count": null,
      "metadata": {
        "ExecuteTime": {
          "end_time": "2021-10-02T06:36:20.701379Z",
          "start_time": "2021-10-02T06:36:20.608794Z"
        },
        "id": "JsyiQ4_kh3tO",
        "outputId": "c0441a9b-1a1a-419b-8ff6-c06c0d8b3f66"
      },
      "outputs": [
        {
          "name": "stdout",
          "output_type": "stream",
          "text": [
            "1 2 3\n"
          ]
        },
        {
          "data": {
            "text/plain": [
              "(1, 2, 3)"
            ]
          },
          "execution_count": 7,
          "metadata": {},
          "output_type": "execute_result"
        }
      ],
      "source": [
        "a = 1; b = 2; c = 3\n",
        "print(a,b,c)  # outout: 1 2 3\n",
        "a,b,c         # outout: 1 2 3"
      ]
    },
    {
      "cell_type": "code",
      "execution_count": null,
      "metadata": {
        "ExecuteTime": {
          "end_time": "2021-10-02T06:36:20.823509Z",
          "start_time": "2021-10-02T06:36:20.702346Z"
        },
        "scrolled": true,
        "id": "2rlJw6zjh3tP",
        "outputId": "7d892a18-67eb-4c64-cb86-c3f632e4ecab"
      },
      "outputs": [
        {
          "name": "stdout",
          "output_type": "stream",
          "text": [
            "Milaan Parmar Finland 96 True\n",
            "First name: Milaan\n",
            "Last name:  Parmar\n",
            "Country:  Finland\n",
            "Age:  96\n",
            "Married:  True\n"
          ]
        }
      ],
      "source": [
        "first_name, last_name, country, age, is_married = 'Milaan', 'Parmar', 'Finland', 96, True\n",
        "\n",
        "print(first_name, last_name, country, age, is_married)\n",
        "print('First name:', first_name)\n",
        "print('Last name: ', last_name)\n",
        "print('Country: ', country)\n",
        "print('Age: ', age) # Don't worry it is not my real age ^_^\n",
        "print('Married: ', is_married)"
      ]
    },
    {
      "cell_type": "markdown",
      "metadata": {
        "id": "CRk8m1tlh3tP"
      },
      "source": [
        "If we want to assign the same value to **multiple**/**chained** variables at once, we can do this as:"
      ]
    },
    {
      "cell_type": "code",
      "execution_count": null,
      "metadata": {
        "ExecuteTime": {
          "end_time": "2021-10-02T06:36:20.946004Z",
          "start_time": "2021-10-02T06:36:20.825916Z"
        },
        "id": "nUPVfeyIh3tQ",
        "outputId": "4a461714-5a1e-4afc-c1ee-ffbc8cf29ad1"
      },
      "outputs": [
        {
          "name": "stdout",
          "output_type": "stream",
          "text": [
            "same\n",
            "same\n",
            "same\n"
          ]
        }
      ],
      "source": [
        "x = y = z = \"same\"\n",
        "\n",
        "print (x)\n",
        "print (y)\n",
        "print (z)"
      ]
    },
    {
      "cell_type": "markdown",
      "metadata": {
        "id": "H_cJXGbfh3tQ"
      },
      "source": [
        "The second program assigns the **`same`** string to all the three variables **`x`**, **`y`** and **`z`**."
      ]
    },
    {
      "cell_type": "code",
      "execution_count": null,
      "metadata": {
        "ExecuteTime": {
          "end_time": "2021-10-02T06:36:21.046591Z",
          "start_time": "2021-10-02T06:36:20.946494Z"
        },
        "id": "rZqY0QGPh3tR",
        "outputId": "7d57fff6-83c1-44c5-9810-d0fa973e7bd9"
      },
      "outputs": [
        {
          "name": "stdout",
          "output_type": "stream",
          "text": [
            "300 300 300\n"
          ]
        }
      ],
      "source": [
        "p = q = r = 300   # Assigning value together\n",
        "print(p, q, r)    # Printing value together"
      ]
    },
    {
      "cell_type": "markdown",
      "metadata": {
        "id": "nMNku2KPh3tR"
      },
      "source": [
        "#### Example 3: Changing the value of a variable"
      ]
    },
    {
      "cell_type": "code",
      "execution_count": null,
      "metadata": {
        "ExecuteTime": {
          "end_time": "2021-10-02T06:36:21.168662Z",
          "start_time": "2021-10-02T06:36:21.047080Z"
        },
        "id": "SG-f6gqXh3tR",
        "outputId": "208f77dc-cc8d-4436-a2ec-cd30aae5c0db",
        "colab": {
          "base_uri": "https://localhost:8080/"
        }
      },
      "outputs": [
        {
          "output_type": "stream",
          "name": "stdout",
          "text": [
            "google.com\n",
            "bwiki.com\n"
          ]
        }
      ],
      "source": [
        "website = \"google.com\"\n",
        "print(website)\n",
        "\n",
        "# assigning a new variable to website\n",
        "website = \"bwiki.com\"\n",
        "\n",
        "print(website)"
      ]
    },
    {
      "cell_type": "code",
      "execution_count": null,
      "metadata": {
        "ExecuteTime": {
          "end_time": "2021-10-02T06:36:21.289757Z",
          "start_time": "2021-10-02T06:36:21.175502Z"
        },
        "scrolled": false,
        "id": "5s4OogMDh3tR",
        "outputId": "7fc5375b-55c2-4cd2-af08-cb229511465b"
      },
      "outputs": [
        {
          "name": "stdout",
          "output_type": "stream",
          "text": [
            "300\n"
          ]
        }
      ],
      "source": [
        "n=300\n",
        "print(n)"
      ]
    },
    {
      "cell_type": "code",
      "execution_count": null,
      "metadata": {
        "ExecuteTime": {
          "end_time": "2021-10-02T06:36:21.464561Z",
          "start_time": "2021-10-02T06:36:21.297568Z"
        },
        "id": "dTtziu6Ih3tS",
        "outputId": "994769f1-6f6a-4c64-d2a7-038a0f92673c"
      },
      "outputs": [
        {
          "name": "stdout",
          "output_type": "stream",
          "text": [
            "300\n",
            "1000\n"
          ]
        }
      ],
      "source": [
        "m=n\n",
        "print(n)\n",
        "\n",
        "m = 1000   # assigning a new value to n\n",
        "print(m)"
      ]
    },
    {
      "cell_type": "code",
      "execution_count": null,
      "metadata": {
        "ExecuteTime": {
          "end_time": "2021-10-02T06:36:21.542044Z",
          "start_time": "2021-10-02T06:36:21.464561Z"
        },
        "id": "s_x1OgHph3tS",
        "outputId": "312b9f6f-2275-4bee-c427-38c8dda08f7a"
      },
      "outputs": [
        {
          "name": "stdout",
          "output_type": "stream",
          "text": [
            "10\n"
          ]
        }
      ],
      "source": [
        "# Declare & Redeclare variables\n",
        "m = \"Python is Fun\"\n",
        "m = 10\n",
        "print (m)"
      ]
    },
    {
      "cell_type": "markdown",
      "metadata": {
        "id": "1wgwF7sGh3tS"
      },
      "source": [
        "# 2. Constants\n",
        "\n",
        "A constant is a type of variable whose value cannot be changed. It is helpful to think of constants as containers that hold information which cannot be changed later.\n",
        "\n",
        "You can think of constants as a bag to store some books which cannot be replaced once placed inside the bag."
      ]
    },
    {
      "cell_type": "markdown",
      "metadata": {
        "id": "DBLCM_17h3tS"
      },
      "source": [
        "### Assigning value to constant in Python\n",
        "\n",
        "In Python, constants are usually declared and assigned in a module. Here, the module is a new file containing variables, functions, etc which is imported to the main file. Inside the module, constants are written in all capital letters and underscores separating the words."
      ]
    },
    {
      "cell_type": "markdown",
      "metadata": {
        "id": "ihHO6Eolh3tS"
      },
      "source": [
        "## Rules and Naming Convention for Variables and constants\n",
        "\n",
        "The examples you have seen so far have used **short**, terse variable names like m and n. But variable names can be more **verbose**. In fact, it is usually beneficial if they are because it makes the purpose of the variable more evident at first glance.\n",
        "\n",
        "1. Constant and variable names should have a combination of letters in lowercase (a to z) or uppercase (**A to Z**) or digits (**0 to 9**) or an underscore **`_`**. For example:\n",
        "\n",
        "\n",
        "\n",
        "2. Create a name that makes sense. For example, **`vowel`** makes more sense than **`v`**.\n",
        "\n",
        "3. If you want to create a variable name having two words, use underscore to separate them. For example:\n",
        "\n",
        "\n",
        "\n",
        "4. Use capital letters possible to declare a constant. For example:\n",
        "\n",
        "\n",
        "```\n",
        "\n",
        "5. Never use special symbols like **!**, **@**, **#**, **$** <b> % </b>, etc.\n",
        "\n",
        "6. Don't start a variable name with a digit.\n",
        "\n"
      ]
    },
    {
      "cell_type": "markdown",
      "metadata": {
        "id": "SB2FN89uh3tT"
      },
      "source": [
        "For example, all of the following are valid variable names:"
      ]
    },
    {
      "cell_type": "code",
      "execution_count": null,
      "metadata": {
        "ExecuteTime": {
          "end_time": "2021-10-02T06:36:21.667195Z",
          "start_time": "2021-10-02T06:36:21.542044Z"
        },
        "id": "9Br-QciXh3tT",
        "outputId": "ecfc3284-4b8e-4687-a022-2bd3acc89121"
      },
      "outputs": [
        {
          "name": "stdout",
          "output_type": "stream",
          "text": [
            "Bob 54 True\n"
          ]
        }
      ],
      "source": [
        "name = \"Bob\"\n",
        "Age = 54\n",
        "has_W2 = True\n",
        "print(name, Age, has_W2)"
      ]
    },
    {
      "cell_type": "code",
      "execution_count": null,
      "metadata": {
        "ExecuteTime": {
          "end_time": "2021-10-02T06:36:21.779446Z",
          "start_time": "2021-10-02T06:36:21.667684Z"
        },
        "scrolled": true,
        "id": "IhNxOG6oh3tT",
        "outputId": "0b089405-dcf1-4576-8a6d-ca195be2c815"
      },
      "outputs": [
        {
          "ename": "SyntaxError",
          "evalue": "invalid decimal literal (<ipython-input-16-8cc0f1bdc5ed>, line 1)",
          "output_type": "error",
          "traceback": [
            "\u001b[1;36m  File \u001b[1;32m\"<ipython-input-16-8cc0f1bdc5ed>\"\u001b[1;36m, line \u001b[1;32m1\u001b[0m\n\u001b[1;33m    1099_filed = False    # cannot start name of a variable with a number.\u001b[0m\n\u001b[1;37m        ^\u001b[0m\n\u001b[1;31mSyntaxError\u001b[0m\u001b[1;31m:\u001b[0m invalid decimal literal\n"
          ]
        }
      ],
      "source": [
        "1099_filed = False    # cannot start name of a variable with a number."
      ]
    },
    {
      "cell_type": "code",
      "execution_count": null,
      "metadata": {
        "ExecuteTime": {
          "end_time": "2021-10-02T06:37:08.476696Z",
          "start_time": "2021-10-02T06:37:08.454238Z"
        },
        "id": "SKxZnGLwh3tU",
        "outputId": "8fd66417-6ec9-4fba-b3e6-145f9cbf4976"
      },
      "outputs": [
        {
          "name": "stdout",
          "output_type": "stream",
          "text": [
            "1 2 3 4 5 1 1 8\n"
          ]
        }
      ],
      "source": [
        "age = 1\n",
        "Age = 2\n",
        "aGe = 3\n",
        "AGE = 4\n",
        "a_g_e = 5\n",
        "_age = 6\n",
        "age_ = 7\n",
        "AGe = 8\n",
        "print(age, Age, aGe, AGE, a_g_e, age, age, AGe)"
      ]
    },
    {
      "cell_type": "code",
      "execution_count": null,
      "metadata": {
        "id": "BkvKPc1hh3tU"
      },
      "outputs": [],
      "source": []
    }
  ],
  "metadata": {
    "hide_input": false,
    "kernelspec": {
      "display_name": "Python 3 (ipykernel)",
      "language": "python",
      "name": "python3"
    },
    "language_info": {
      "codemirror_mode": {
        "name": "ipython",
        "version": 3
      },
      "file_extension": ".py",
      "mimetype": "text/x-python",
      "name": "python",
      "nbconvert_exporter": "python",
      "pygments_lexer": "ipython3",
      "version": "3.10.9"
    },
    "toc": {
      "base_numbering": 1,
      "nav_menu": {},
      "number_sections": true,
      "sideBar": true,
      "skip_h1_title": false,
      "title_cell": "Table of Contents",
      "title_sidebar": "Contents",
      "toc_cell": false,
      "toc_position": {},
      "toc_section_display": true,
      "toc_window_display": false
    },
    "varInspector": {
      "cols": {
        "lenName": 16,
        "lenType": 16,
        "lenVar": 40
      },
      "kernels_config": {
        "python": {
          "delete_cmd_postfix": "",
          "delete_cmd_prefix": "del ",
          "library": "var_list.py",
          "varRefreshCmd": "print(var_dic_list())"
        },
        "r": {
          "delete_cmd_postfix": ") ",
          "delete_cmd_prefix": "rm(",
          "library": "var_list.r",
          "varRefreshCmd": "cat(var_dic_list()) "
        }
      },
      "types_to_exclude": [
        "module",
        "function",
        "builtin_function_or_method",
        "instance",
        "_Feature"
      ],
      "window_display": false
    },
    "colab": {
      "provenance": [],
      "include_colab_link": true
    }
  },
  "nbformat": 4,
  "nbformat_minor": 0
}